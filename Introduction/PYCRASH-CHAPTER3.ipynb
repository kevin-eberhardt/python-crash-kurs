{
 "cells": [
  {
   "cell_type": "markdown",
   "metadata": {},
   "source": [
    "# Lists in Python"
   ]
  },
  {
   "cell_type": "code",
   "execution_count": 2,
   "metadata": {},
   "outputs": [
    {
     "name": "stdout",
     "output_type": "stream",
     "text": [
      "['trek', 'canyon', 'cube']\n"
     ]
    }
   ],
   "source": [
    "#working with lists\n",
    "#create lists and access list elements\n",
    "\n",
    "#bikes = 'trek'\n",
    "bikes = ['trek', 'canyon', 'cube']\n",
    "print(bikes)"
   ]
  },
  {
   "cell_type": "code",
   "execution_count": 3,
   "metadata": {},
   "outputs": [
    {
     "name": "stdout",
     "output_type": "stream",
     "text": [
      "Trek\n",
      "trek\n"
     ]
    }
   ],
   "source": [
    "#access specific elements of list\n",
    "print(bikes[0].title())\n",
    "print(bikes[0])"
   ]
  },
  {
   "cell_type": "code",
   "execution_count": 4,
   "metadata": {},
   "outputs": [
    {
     "name": "stdout",
     "output_type": "stream",
     "text": [
      "Canyon\n"
     ]
    }
   ],
   "source": [
    "# last element in list\n",
    "print(bikes[-2].title())"
   ]
  },
  {
   "cell_type": "code",
   "execution_count": 5,
   "metadata": {},
   "outputs": [
    {
     "name": "stdout",
     "output_type": "stream",
     "text": [
      "My favourite bike brand is Cube\n"
     ]
    }
   ],
   "source": [
    "# concatentation and list values\n",
    "print(\"My favourite bike brand is \" + bikes[-1].title())"
   ]
  },
  {
   "cell_type": "code",
   "execution_count": 6,
   "metadata": {},
   "outputs": [
    {
     "name": "stdout",
     "output_type": "stream",
     "text": [
      "['trek', 'canyon', 'cube']\n",
      "['trek', 'basso', 'cube']\n"
     ]
    }
   ],
   "source": [
    "# change list values\n",
    "print(bikes)\n",
    "bikes[1] = 'basso'\n",
    "print(bikes)"
   ]
  },
  {
   "cell_type": "code",
   "execution_count": 7,
   "metadata": {},
   "outputs": [
    {
     "name": "stdout",
     "output_type": "stream",
     "text": [
      "['trek', 'basso', 'cube', 'giant']\n"
     ]
    }
   ],
   "source": [
    "#adding list elements\n",
    "bikes.append('giant')\n",
    "print(bikes)"
   ]
  },
  {
   "cell_type": "code",
   "execution_count": 8,
   "metadata": {},
   "outputs": [
    {
     "name": "stdout",
     "output_type": "stream",
     "text": [
      "\n",
      "build list from scratch:\n",
      "['audi', 'mercedes', 'VW']\n"
     ]
    }
   ],
   "source": [
    "#build list from scratch\n",
    "print(\"\\nbuild list from scratch:\")\n",
    "cars = []\n",
    "cars.append('audi')\n",
    "cars.append('mercedes')\n",
    "cars.append('VW')\n",
    "print(cars)"
   ]
  },
  {
   "cell_type": "code",
   "execution_count": 9,
   "metadata": {},
   "outputs": [
    {
     "name": "stdout",
     "output_type": "stream",
     "text": [
      "\n",
      "insert elements into list:\n",
      "['amg', 'audi', 'mercedes', 'VW']\n",
      "['amg', 'audi', 'mercedes', 'BMW', 'VW']\n"
     ]
    }
   ],
   "source": [
    "#insert elements into list\n",
    "print(\"\\ninsert elements into list:\")\n",
    "cars.insert(0,'amg')\n",
    "print(cars)\n",
    "cars.insert(3,'BMW')\n",
    "print(cars)"
   ]
  },
  {
   "cell_type": "code",
   "execution_count": 10,
   "metadata": {},
   "outputs": [
    {
     "name": "stdout",
     "output_type": "stream",
     "text": [
      "\n",
      "remove elements from list:\n",
      "['audi', 'mercedes', 'BMW', 'VW']\n"
     ]
    }
   ],
   "source": [
    "#remove elements from list\n",
    "print(\"\\nremove elements from list:\")\n",
    "del cars[0]\n",
    "print(cars)"
   ]
  },
  {
   "cell_type": "code",
   "execution_count": 11,
   "metadata": {},
   "outputs": [
    {
     "name": "stdout",
     "output_type": "stream",
     "text": [
      "\n",
      "pop: remove and store\n",
      "VW\n",
      "['audi', 'mercedes', 'BMW']\n"
     ]
    }
   ],
   "source": [
    "#pop: remove and store last element\n",
    "print(\"\\npop: remove and store\")\n",
    "popped_car = cars.pop()\n",
    "print(popped_car)\n",
    "print(cars)"
   ]
  },
  {
   "cell_type": "code",
   "execution_count": 12,
   "metadata": {},
   "outputs": [
    {
     "name": "stdout",
     "output_type": "stream",
     "text": [
      "\n",
      "build list from scratch:\n",
      "['audi', 'mercedes', 'VW']\n",
      "\n",
      "pop: remove and store any element\n",
      "mercedes\n",
      "['audi', 'VW']\n"
     ]
    }
   ],
   "source": [
    "#pop any element of list: remove and store\n",
    "#build list from scratch\n",
    "print(\"\\nbuild list from scratch:\")\n",
    "cars = []\n",
    "cars.append('audi')\n",
    "cars.append('mercedes')\n",
    "cars.append('VW')\n",
    "print(cars)\n",
    "\n",
    "print(\"\\npop: remove and store any element\")\n",
    "popped_car = cars.pop(1)\n",
    "print(popped_car)\n",
    "print(cars)"
   ]
  },
  {
   "cell_type": "code",
   "execution_count": 13,
   "metadata": {},
   "outputs": [
    {
     "name": "stdout",
     "output_type": "stream",
     "text": [
      "['trek', 'canyon', 'cube', 'basso', 'cervelo']\n",
      "\n",
      "remove item by value: \n",
      "['trek', 'cube', 'basso', 'cervelo']\n"
     ]
    }
   ],
   "source": [
    "bikes2 = ['trek', 'canyon', 'cube','basso','cervelo']\n",
    "print (bikes2)\n",
    "\n",
    "#remove item by value\n",
    "print(\"\\nremove item by value: \")\n",
    "bikes2.remove('canyon')\n",
    "print (bikes2)"
   ]
  },
  {
   "cell_type": "code",
   "execution_count": 14,
   "metadata": {},
   "outputs": [
    {
     "name": "stdout",
     "output_type": "stream",
     "text": [
      "['bmw', 'audi', 'toyota', 'subaru']\n",
      "\n",
      " sorting lists:\n",
      "['audi', 'bmw', 'subaru', 'toyota']\n"
     ]
    }
   ],
   "source": [
    "#sorting lists\n",
    "cars = ['bmw', 'audi', 'toyota', 'subaru']\n",
    "print(cars)\n",
    "\n",
    "print(\"\\n sorting lists:\")\n",
    "cars = ['bmw', 'audi', 'toyota', 'subaru']\n",
    "#sort method\n",
    "cars.sort()\n",
    "print(cars)"
   ]
  },
  {
   "cell_type": "code",
   "execution_count": 15,
   "metadata": {},
   "outputs": [
    {
     "name": "stdout",
     "output_type": "stream",
     "text": [
      "\n",
      "temporary sorting:\n",
      "['bmw', 'audi', 'toyota', 'subaru']\n",
      "['audi', 'bmw', 'subaru', 'toyota']\n",
      "['bmw', 'audi', 'toyota', 'subaru']\n"
     ]
    }
   ],
   "source": [
    "#temporary sorting\n",
    "print(\"\\ntemporary sorting:\")\n",
    "cars = ['bmw', 'audi', 'toyota', 'subaru']\n",
    "print(cars)\n",
    "#sorted function\n",
    "print(sorted(cars))\n",
    "\n",
    "\n",
    "\n",
    "print(cars)"
   ]
  },
  {
   "cell_type": "code",
   "execution_count": 28,
   "metadata": {},
   "outputs": [
    {
     "name": "stdout",
     "output_type": "stream",
     "text": [
      "\n",
      "reverse order:\n",
      "['bmw', 'audi', 'toyota', 'subaru']\n"
     ]
    }
   ],
   "source": [
    "#reverse order\n",
    "print(\"\\nreverse order:\")\n",
    "cars.reverse()\n",
    "print(cars)"
   ]
  },
  {
   "cell_type": "code",
   "execution_count": 16,
   "metadata": {},
   "outputs": [
    {
     "name": "stdout",
     "output_type": "stream",
     "text": [
      "\n",
      "length of list:\n",
      "4\n"
     ]
    }
   ],
   "source": [
    "#length of list\n",
    "print(\"\\nlength of list:\")\n",
    "print(len(cars))"
   ]
  },
  {
   "cell_type": "code",
   "execution_count": 29,
   "metadata": {},
   "outputs": [
    {
     "name": "stdout",
     "output_type": "stream",
     "text": [
      "\n",
      "index errors:\n",
      "suzuki\n"
     ]
    }
   ],
   "source": [
    "#index errors\n",
    "print(\"\\nindex errors:\")\n",
    "\n",
    "motorcycles = ['honda', 'yamaha', 'suzuki']\n",
    "print(motorcycles[2])"
   ]
  }
 ],
 "metadata": {
  "kernelspec": {
   "display_name": "Python 3 (ipykernel)",
   "language": "python",
   "name": "python3"
  },
  "language_info": {
   "codemirror_mode": {
    "name": "ipython",
    "version": 3
   },
   "file_extension": ".py",
   "mimetype": "text/x-python",
   "name": "python",
   "nbconvert_exporter": "python",
   "pygments_lexer": "ipython3",
   "version": "3.9.12"
  }
 },
 "nbformat": 4,
 "nbformat_minor": 2
}
