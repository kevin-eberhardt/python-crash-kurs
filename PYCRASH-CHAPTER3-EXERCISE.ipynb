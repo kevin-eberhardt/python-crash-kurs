{
 "cells": [
  {
   "cell_type": "markdown",
   "metadata": {},
   "source": [
    "# Create a guest list\n",
    "\n",
    "a) Guest List: If you could invite anyone, living or deceased, to dinner, who would you invite? \n",
    "\n",
    "Make a list that includes at least three people you’d like to invite to dinner. \n",
    "\n",
    "Then use your list to print a message to each person, inviting them to dinner."
   ]
  },
  {
   "cell_type": "code",
   "execution_count": 28,
   "metadata": {},
   "outputs": [
    {
     "name": "stdout",
     "output_type": "stream",
     "text": [
      "Hey Person A, you're invited to dinner at 7pm!\n",
      "Hey Person B, you're invited to dinner at 7pm!\n",
      "Hey Person C, you're invited to dinner at 7pm!\n"
     ]
    }
   ],
   "source": [
    "guests = [\"Person A\", \"Person B\", \"Person C\"]\n",
    "for guest in guests:\n",
    "    print(\"Hey {}, you're invited to dinner at 7pm!\".format(guest))"
   ]
  },
  {
   "cell_type": "markdown",
   "metadata": {},
   "source": [
    "b) Changing Guest List: You just heard that one of your guests can’t make the\n",
    "dinner, so you need to send out a new set of invitations. You’ll have to think of\n",
    "someone else to invite.\n",
    "\n",
    "Start with your initial guest list. Add a print statement at the\n",
    "end of your program stating the name of the guest who can’t make it.\n",
    "\n",
    "Modify your list, replacing the name of the guest who can’t make it with\n",
    "the name of the new person you are inviting.\n",
    "\n",
    "Print a second set of invitation messages, one for each person who is still\n",
    "in your list."
   ]
  },
  {
   "cell_type": "code",
   "execution_count": 26,
   "metadata": {},
   "outputs": [
    {
     "name": "stdout",
     "output_type": "stream",
     "text": [
      "['Person A', 'Person B', 'Person C']\n",
      "['Person A', 'Person Z', 'Person C']\n"
     ]
    }
   ],
   "source": [
    "print(guests)\n",
    "guests.remove(\"Person B\")\n",
    "guests.insert(1, \"Person Z\")\n",
    "print(guests)"
   ]
  },
  {
   "cell_type": "markdown",
   "metadata": {},
   "source": [
    "c) More Guests: You just found a bigger dinner table, so now more space is\n",
    "available. Think of three more guests to invite to dinner.\n",
    "\n",
    "Add a print statement to the end of your program informing people that you found a bigger dinner table.\n",
    "\n",
    "Use insert() to add one new guest to the beginning of your list.\n",
    "\n",
    "Use insert() to add one new guest to the middle of your list.\n",
    "\n",
    "Use append() to add one new guest to the end of your list.\n",
    "\n",
    "Print a new set of invitation messages, one for each person in your list"
   ]
  },
  {
   "cell_type": "code",
   "execution_count": 27,
   "metadata": {},
   "outputs": [
    {
     "name": "stdout",
     "output_type": "stream",
     "text": [
      "Hey Person Y, dinner at 7pm!\n",
      "Hey Person A, dinner at 7pm!\n",
      "Hey Person W, dinner at 7pm!\n",
      "Hey Person Z, dinner at 7pm!\n",
      "Hey Person C, dinner at 7pm!\n",
      "Hey Me, dinner at 7pm!\n"
     ]
    }
   ],
   "source": [
    "guests.insert(0, \"Person Y\")\n",
    "guests.insert(len(guests)//2, \"Person W\")\n",
    "\n",
    "guests.append(\"Me\")\n",
    "for guest in guests:\n",
    "    print(\"Hey {}, dinner at 7pm!\".format(guest))"
   ]
  }
 ],
 "metadata": {
  "kernelspec": {
   "display_name": "Python 3 (ipykernel)",
   "language": "python",
   "name": "python3"
  },
  "language_info": {
   "codemirror_mode": {
    "name": "ipython",
    "version": 3
   },
   "file_extension": ".py",
   "mimetype": "text/x-python",
   "name": "python",
   "nbconvert_exporter": "python",
   "pygments_lexer": "ipython3",
   "version": "3.9.12"
  }
 },
 "nbformat": 4,
 "nbformat_minor": 4
}
